{
  "cells": [
    {
      "cell_type": "markdown",
      "id": "a44828e8",
      "metadata": {
        "id": "a44828e8"
      },
      "source": [
        "##  DEEP LEARNING\n",
        "### SIMON PORRAS VILLALOBOS\n",
        "Carga y limpieza de un dataframe"
      ]
    },
    {
      "cell_type": "code",
      "execution_count": 2,
      "id": "3dc61249",
      "metadata": {
        "id": "3dc61249"
      },
      "outputs": [],
      "source": [
        "import numpy as np\n",
        "import polars as pl\n",
        "import pandas as pd\n",
        "\n",
        "pd.set_option(\"display.max_columns\", None)  # Muestra todas las columnas\n",
        "pd.set_option(\"display.max_rows\", None)     # Muestra todas las filas\n",
        "pd.set_option(\"display.width\", None)        # Evita cortes en horizontal"
      ]
    },
    {
      "cell_type": "code",
      "execution_count": 3,
      "id": "44c53f29",
      "metadata": {
        "id": "44c53f29"
      },
      "outputs": [],
      "source": [
        "# Cargar el DataFrame con Polars\n",
        "df_polars = pl.read_csv(\"dataset_original/train.csv\")"
      ]
    },
    {
      "cell_type": "code",
      "execution_count": 4,
      "id": "0ca7ce9a",
      "metadata": {
        "colab": {
          "base_uri": "https://localhost:8080/",
          "height": 255
        },
        "id": "0ca7ce9a",
        "outputId": "f6241d9a-50bd-44a5-9353-307f87664286"
      },
      "outputs": [
        {
          "data": {
            "text/html": [
              "<div><style>\n",
              ".dataframe > thead > tr,\n",
              ".dataframe > tbody > tr {\n",
              "  text-align: right;\n",
              "  white-space: pre-wrap;\n",
              "}\n",
              "</style>\n",
              "<small>shape: (5, 9)</small><table border=\"1\" class=\"dataframe\"><thead><tr><th></th><th>review_id</th><th>product_id</th><th>reviewer_id</th><th>stars</th><th>review_body</th><th>review_title</th><th>language</th><th>product_category</th></tr><tr><td>i64</td><td>str</td><td>str</td><td>str</td><td>i64</td><td>str</td><td>str</td><td>str</td><td>str</td></tr></thead><tbody><tr><td>0</td><td>&quot;de_0203609&quot;</td><td>&quot;product_de_0865382&quot;</td><td>&quot;reviewer_de_0267719&quot;</td><td>1</td><td>&quot;Armband ist leider nach 1 Jahr…</td><td>&quot;Leider nach 1 Jahr kaputt&quot;</td><td>&quot;de&quot;</td><td>&quot;sports&quot;</td></tr><tr><td>1</td><td>&quot;de_0559494&quot;</td><td>&quot;product_de_0678997&quot;</td><td>&quot;reviewer_de_0783625&quot;</td><td>1</td><td>&quot;In der Lieferung war nur Ein A…</td><td>&quot;EINS statt ZWEI Akkus!!!&quot;</td><td>&quot;de&quot;</td><td>&quot;home_improvement&quot;</td></tr><tr><td>2</td><td>&quot;de_0238777&quot;</td><td>&quot;product_de_0372235&quot;</td><td>&quot;reviewer_de_0911426&quot;</td><td>1</td><td>&quot;Ein Stern, weil gar keine geht…</td><td>&quot;Achtung Abzocke&quot;</td><td>&quot;de&quot;</td><td>&quot;drugstore&quot;</td></tr><tr><td>3</td><td>&quot;de_0477884&quot;</td><td>&quot;product_de_0719501&quot;</td><td>&quot;reviewer_de_0836478&quot;</td><td>1</td><td>&quot;Dachte, das wären einfach etwa…</td><td>&quot;Zu viel des Guten&quot;</td><td>&quot;de&quot;</td><td>&quot;drugstore&quot;</td></tr><tr><td>4</td><td>&quot;de_0270868&quot;</td><td>&quot;product_de_0022613&quot;</td><td>&quot;reviewer_de_0736276&quot;</td><td>1</td><td>&quot;Meine Kinder haben kaum damit …</td><td>&quot;Qualität sehr schlecht&quot;</td><td>&quot;de&quot;</td><td>&quot;toy&quot;</td></tr></tbody></table></div>"
            ],
            "text/plain": [
              "shape: (5, 9)\n",
              "┌─────┬────────────┬────────────┬────────────┬───┬────────────┬────────────┬──────────┬────────────┐\n",
              "│     ┆ review_id  ┆ product_id ┆ reviewer_i ┆ … ┆ review_bod ┆ review_tit ┆ language ┆ product_ca │\n",
              "│ --- ┆ ---        ┆ ---        ┆ d          ┆   ┆ y          ┆ le         ┆ ---      ┆ tegory     │\n",
              "│ i64 ┆ str        ┆ str        ┆ ---        ┆   ┆ ---        ┆ ---        ┆ str      ┆ ---        │\n",
              "│     ┆            ┆            ┆ str        ┆   ┆ str        ┆ str        ┆          ┆ str        │\n",
              "╞═════╪════════════╪════════════╪════════════╪═══╪════════════╪════════════╪══════════╪════════════╡\n",
              "│ 0   ┆ de_0203609 ┆ product_de ┆ reviewer_d ┆ … ┆ Armband    ┆ Leider     ┆ de       ┆ sports     │\n",
              "│     ┆            ┆ _0865382   ┆ e_0267719  ┆   ┆ ist leider ┆ nach 1     ┆          ┆            │\n",
              "│     ┆            ┆            ┆            ┆   ┆ nach 1     ┆ Jahr       ┆          ┆            │\n",
              "│     ┆            ┆            ┆            ┆   ┆ Jahr…      ┆ kaputt     ┆          ┆            │\n",
              "│ 1   ┆ de_0559494 ┆ product_de ┆ reviewer_d ┆ … ┆ In der     ┆ EINS statt ┆ de       ┆ home_impro │\n",
              "│     ┆            ┆ _0678997   ┆ e_0783625  ┆   ┆ Lieferung  ┆ ZWEI       ┆          ┆ vement     │\n",
              "│     ┆            ┆            ┆            ┆   ┆ war nur    ┆ Akkus!!!   ┆          ┆            │\n",
              "│     ┆            ┆            ┆            ┆   ┆ Ein A…     ┆            ┆          ┆            │\n",
              "│ 2   ┆ de_0238777 ┆ product_de ┆ reviewer_d ┆ … ┆ Ein Stern, ┆ Achtung    ┆ de       ┆ drugstore  │\n",
              "│     ┆            ┆ _0372235   ┆ e_0911426  ┆   ┆ weil gar   ┆ Abzocke    ┆          ┆            │\n",
              "│     ┆            ┆            ┆            ┆   ┆ keine      ┆            ┆          ┆            │\n",
              "│     ┆            ┆            ┆            ┆   ┆ geht…      ┆            ┆          ┆            │\n",
              "│ 3   ┆ de_0477884 ┆ product_de ┆ reviewer_d ┆ … ┆ Dachte,    ┆ Zu viel    ┆ de       ┆ drugstore  │\n",
              "│     ┆            ┆ _0719501   ┆ e_0836478  ┆   ┆ das wären  ┆ des Guten  ┆          ┆            │\n",
              "│     ┆            ┆            ┆            ┆   ┆ einfach    ┆            ┆          ┆            │\n",
              "│     ┆            ┆            ┆            ┆   ┆ etwa…      ┆            ┆          ┆            │\n",
              "│ 4   ┆ de_0270868 ┆ product_de ┆ reviewer_d ┆ … ┆ Meine      ┆ Qualität   ┆ de       ┆ toy        │\n",
              "│     ┆            ┆ _0022613   ┆ e_0736276  ┆   ┆ Kinder     ┆ sehr       ┆          ┆            │\n",
              "│     ┆            ┆            ┆            ┆   ┆ haben kaum ┆ schlecht   ┆          ┆            │\n",
              "│     ┆            ┆            ┆            ┆   ┆ damit …    ┆            ┆          ┆            │\n",
              "└─────┴────────────┴────────────┴────────────┴───┴────────────┴────────────┴──────────┴────────────┘"
            ]
          },
          "execution_count": 4,
          "metadata": {},
          "output_type": "execute_result"
        }
      ],
      "source": [
        "df_polars.head()"
      ]
    },
    {
      "cell_type": "code",
      "execution_count": 5,
      "id": "e437d0df",
      "metadata": {
        "colab": {
          "base_uri": "https://localhost:8080/",
          "height": 398
        },
        "id": "e437d0df",
        "outputId": "2b7a800a-3a78-4bfa-cf0e-dfedc21eb64e"
      },
      "outputs": [
        {
          "data": {
            "text/html": [
              "<div><style>\n",
              ".dataframe > thead > tr,\n",
              ".dataframe > tbody > tr {\n",
              "  text-align: right;\n",
              "  white-space: pre-wrap;\n",
              "}\n",
              "</style>\n",
              "<small>shape: (9, 10)</small><table border=\"1\" class=\"dataframe\"><thead><tr><th>statistic</th><th></th><th>review_id</th><th>product_id</th><th>reviewer_id</th><th>stars</th><th>review_body</th><th>review_title</th><th>language</th><th>product_category</th></tr><tr><td>str</td><td>f64</td><td>str</td><td>str</td><td>str</td><td>f64</td><td>str</td><td>str</td><td>str</td><td>str</td></tr></thead><tbody><tr><td>&quot;count&quot;</td><td>1.2e6</td><td>&quot;1200000&quot;</td><td>&quot;1200000&quot;</td><td>&quot;1200000&quot;</td><td>1.2e6</td><td>&quot;1200000&quot;</td><td>&quot;1199996&quot;</td><td>&quot;1200000&quot;</td><td>&quot;1200000&quot;</td></tr><tr><td>&quot;null_count&quot;</td><td>0.0</td><td>&quot;0&quot;</td><td>&quot;0&quot;</td><td>&quot;0&quot;</td><td>0.0</td><td>&quot;0&quot;</td><td>&quot;4&quot;</td><td>&quot;0&quot;</td><td>&quot;0&quot;</td></tr><tr><td>&quot;mean&quot;</td><td>599999.5</td><td>null</td><td>null</td><td>null</td><td>3.0</td><td>null</td><td>null</td><td>null</td><td>null</td></tr><tr><td>&quot;std&quot;</td><td>346410.305851</td><td>null</td><td>null</td><td>null</td><td>1.414214</td><td>null</td><td>null</td><td>null</td><td>null</td></tr><tr><td>&quot;min&quot;</td><td>0.0</td><td>&quot;de_0000001&quot;</td><td>&quot;product_de_0000011&quot;</td><td>&quot;reviewer_de_0000000&quot;</td><td>1.0</td><td>&quot;! ! ! Ware nie erhalten, totz …</td><td>&quot;!&quot;</td><td>&quot;de&quot;</td><td>&quot;apparel&quot;</td></tr><tr><td>&quot;25%&quot;</td><td>300000.0</td><td>null</td><td>null</td><td>null</td><td>2.0</td><td>null</td><td>null</td><td>null</td><td>null</td></tr><tr><td>&quot;50%&quot;</td><td>600000.0</td><td>null</td><td>null</td><td>null</td><td>3.0</td><td>null</td><td>null</td><td>null</td><td>null</td></tr><tr><td>&quot;75%&quot;</td><td>899999.0</td><td>null</td><td>null</td><td>null</td><td>4.0</td><td>null</td><td>null</td><td>null</td><td>null</td></tr><tr><td>&quot;max&quot;</td><td>1.199999e6</td><td>&quot;zh_0999993&quot;</td><td>&quot;product_zh_0999998&quot;</td><td>&quot;reviewer_zh_0999999&quot;</td><td>5.0</td><td>&quot;𧙕统那么长，设计有毛病，感觉上当，实体店看到绝不会买的。&quot;</td><td>&quot;🧳 sac de voyage aux normes voy…</td><td>&quot;zh&quot;</td><td>&quot;wireless&quot;</td></tr></tbody></table></div>"
            ],
            "text/plain": [
              "shape: (9, 10)\n",
              "┌───────────┬───────────┬───────────┬───────────┬───┬───────────┬───────────┬──────────┬───────────┐\n",
              "│ statistic ┆           ┆ review_id ┆ product_i ┆ … ┆ review_bo ┆ review_ti ┆ language ┆ product_c │\n",
              "│ ---       ┆ ---       ┆ ---       ┆ d         ┆   ┆ dy        ┆ tle       ┆ ---      ┆ ategory   │\n",
              "│ str       ┆ f64       ┆ str       ┆ ---       ┆   ┆ ---       ┆ ---       ┆ str      ┆ ---       │\n",
              "│           ┆           ┆           ┆ str       ┆   ┆ str       ┆ str       ┆          ┆ str       │\n",
              "╞═══════════╪═══════════╪═══════════╪═══════════╪═══╪═══════════╪═══════════╪══════════╪═══════════╡\n",
              "│ count     ┆ 1.2e6     ┆ 1200000   ┆ 1200000   ┆ … ┆ 1200000   ┆ 1199996   ┆ 1200000  ┆ 1200000   │\n",
              "│ null_coun ┆ 0.0       ┆ 0         ┆ 0         ┆ … ┆ 0         ┆ 4         ┆ 0        ┆ 0         │\n",
              "│ t         ┆           ┆           ┆           ┆   ┆           ┆           ┆          ┆           │\n",
              "│ mean      ┆ 599999.5  ┆ null      ┆ null      ┆ … ┆ null      ┆ null      ┆ null     ┆ null      │\n",
              "│ std       ┆ 346410.30 ┆ null      ┆ null      ┆ … ┆ null      ┆ null      ┆ null     ┆ null      │\n",
              "│           ┆ 5851      ┆           ┆           ┆   ┆           ┆           ┆          ┆           │\n",
              "│ min       ┆ 0.0       ┆ de_000000 ┆ product_d ┆ … ┆ ! ! !     ┆ !         ┆ de       ┆ apparel   │\n",
              "│           ┆           ┆ 1         ┆ e_0000011 ┆   ┆ Ware nie  ┆           ┆          ┆           │\n",
              "│           ┆           ┆           ┆           ┆   ┆ erhalten, ┆           ┆          ┆           │\n",
              "│           ┆           ┆           ┆           ┆   ┆ totz …    ┆           ┆          ┆           │\n",
              "│ 25%       ┆ 300000.0  ┆ null      ┆ null      ┆ … ┆ null      ┆ null      ┆ null     ┆ null      │\n",
              "│ 50%       ┆ 600000.0  ┆ null      ┆ null      ┆ … ┆ null      ┆ null      ┆ null     ┆ null      │\n",
              "│ 75%       ┆ 899999.0  ┆ null      ┆ null      ┆ … ┆ null      ┆ null      ┆ null     ┆ null      │\n",
              "│ max       ┆ 1.199999e ┆ zh_099999 ┆ product_z ┆ … ┆ 𧙕统那么  ┆ 🧳 sac de ┆ zh       ┆ wireless  │\n",
              "│           ┆ 6         ┆ 3         ┆ h_0999998 ┆   ┆ 长，设计  ┆ voyage    ┆          ┆           │\n",
              "│           ┆           ┆           ┆           ┆   ┆ 有毛病，  ┆ aux       ┆          ┆           │\n",
              "│           ┆           ┆           ┆           ┆   ┆ 感觉上当  ┆ normes    ┆          ┆           │\n",
              "│           ┆           ┆           ┆           ┆   ┆ ，实体店  ┆ voy…      ┆          ┆           │\n",
              "│           ┆           ┆           ┆           ┆   ┆ 看到绝不  ┆           ┆          ┆           │\n",
              "│           ┆           ┆           ┆           ┆   ┆ 会买的。  ┆           ┆          ┆           │\n",
              "└───────────┴───────────┴───────────┴───────────┴───┴───────────┴───────────┴──────────┴───────────┘"
            ]
          },
          "execution_count": 5,
          "metadata": {},
          "output_type": "execute_result"
        }
      ],
      "source": [
        "df_polars.describe()"
      ]
    },
    {
      "cell_type": "code",
      "execution_count": 6,
      "id": "f424d3f6",
      "metadata": {
        "colab": {
          "base_uri": "https://localhost:8080/"
        },
        "id": "f424d3f6",
        "outputId": "2a4e149c-76d1-4a3b-a237-c4cd3c682612"
      },
      "outputs": [
        {
          "name": "stdout",
          "output_type": "stream",
          "text": [
            "Cantidad de valores nulos por columna:\n",
            "\n",
            "Columnas con nulos:\n",
            "   review_title\n",
            "0             4\n"
          ]
        }
      ],
      "source": [
        "#Visualizar coantidad de nulos por columna\n",
        "nulos_por_columna = df_polars.select([\n",
        "    pl.col(col).is_null().sum().alias(col)\n",
        "    for col in df_polars.columns\n",
        "])\n",
        "print(\"Cantidad de valores nulos por columna:\")\n",
        "#print(nulos_por_columna.to_pandas())\n",
        "\n",
        "nulos_filtrados = nulos_por_columna.select([\n",
        "    pl.col(c) for c in nulos_por_columna.columns if nulos_por_columna[0, c] > 0\n",
        "])\n",
        "print(\"\\nColumnas con nulos:\")\n",
        "print(nulos_filtrados.to_pandas())"
      ]
    },
    {
      "cell_type": "code",
      "execution_count": 7,
      "id": "f57ad2c7",
      "metadata": {
        "id": "f57ad2c7"
      },
      "outputs": [],
      "source": [
        "#  Elimnando columnas innecesarias (Determinado manualmente revisando: https://serviciosgis.catastrobogota.gov.co/arcgis/rest/services/catastro/lote/MapServer/3)\n",
        "df_polars = df_polars.drop([\"\",\"review_id\", \"product_id\", \"reviewer_id\", \"product_category\", \"review_title\"])"
      ]
    },
    {
      "cell_type": "code",
      "execution_count": 8,
      "id": "FYea8TzRDANK",
      "metadata": {
        "id": "FYea8TzRDANK"
      },
      "outputs": [],
      "source": [
        "df_polars = df_polars.remove(pl.col(\"language\") != \"es\")"
      ]
    },
    {
      "cell_type": "code",
      "execution_count": 9,
      "id": "X5twTCEmFq-z",
      "metadata": {
        "colab": {
          "base_uri": "https://localhost:8080/",
          "height": 380
        },
        "id": "X5twTCEmFq-z",
        "outputId": "9ff52433-e5ba-439d-d46b-b0401bdbc7bf"
      },
      "outputs": [
        {
          "data": {
            "text/html": [
              "<div><style>\n",
              ".dataframe > thead > tr,\n",
              ".dataframe > tbody > tr {\n",
              "  text-align: right;\n",
              "  white-space: pre-wrap;\n",
              "}\n",
              "</style>\n",
              "<small>shape: (9, 4)</small><table border=\"1\" class=\"dataframe\"><thead><tr><th>statistic</th><th>stars</th><th>review_body</th><th>language</th></tr><tr><td>str</td><td>f64</td><td>str</td><td>str</td></tr></thead><tbody><tr><td>&quot;count&quot;</td><td>200000.0</td><td>&quot;200000&quot;</td><td>&quot;200000&quot;</td></tr><tr><td>&quot;null_count&quot;</td><td>0.0</td><td>&quot;0&quot;</td><td>&quot;0&quot;</td></tr><tr><td>&quot;mean&quot;</td><td>3.0</td><td>null</td><td>null</td></tr><tr><td>&quot;std&quot;</td><td>1.414217</td><td>null</td><td>null</td></tr><tr><td>&quot;min&quot;</td><td>1.0</td><td>&quot;! Que forma de contarnos tiene…</td><td>&quot;es&quot;</td></tr><tr><td>&quot;25%&quot;</td><td>2.0</td><td>null</td><td>null</td></tr><tr><td>&quot;50%&quot;</td><td>3.0</td><td>null</td><td>null</td></tr><tr><td>&quot;75%&quot;</td><td>4.0</td><td>null</td><td>null</td></tr><tr><td>&quot;max&quot;</td><td>5.0</td><td>&quot;😏, no sabría muy bien que deci…</td><td>&quot;es&quot;</td></tr></tbody></table></div>"
            ],
            "text/plain": [
              "shape: (9, 4)\n",
              "┌────────────┬──────────┬─────────────────────────────────┬──────────┐\n",
              "│ statistic  ┆ stars    ┆ review_body                     ┆ language │\n",
              "│ ---        ┆ ---      ┆ ---                             ┆ ---      │\n",
              "│ str        ┆ f64      ┆ str                             ┆ str      │\n",
              "╞════════════╪══════════╪═════════════════════════════════╪══════════╡\n",
              "│ count      ┆ 200000.0 ┆ 200000                          ┆ 200000   │\n",
              "│ null_count ┆ 0.0      ┆ 0                               ┆ 0        │\n",
              "│ mean       ┆ 3.0      ┆ null                            ┆ null     │\n",
              "│ std        ┆ 1.414217 ┆ null                            ┆ null     │\n",
              "│ min        ┆ 1.0      ┆ ! Que forma de contarnos tiene… ┆ es       │\n",
              "│ 25%        ┆ 2.0      ┆ null                            ┆ null     │\n",
              "│ 50%        ┆ 3.0      ┆ null                            ┆ null     │\n",
              "│ 75%        ┆ 4.0      ┆ null                            ┆ null     │\n",
              "│ max        ┆ 5.0      ┆ 😏, no sabría muy bien que      ┆ es       │\n",
              "│            ┆          ┆ deci…                           ┆          │\n",
              "└────────────┴──────────┴─────────────────────────────────┴──────────┘"
            ]
          },
          "execution_count": 9,
          "metadata": {},
          "output_type": "execute_result"
        }
      ],
      "source": [
        "df_polars.describe()"
      ]
    },
    {
      "cell_type": "code",
      "execution_count": 10,
      "id": "1b984915",
      "metadata": {
        "colab": {
          "base_uri": "https://localhost:8080/",
          "height": 255
        },
        "id": "1b984915",
        "outputId": "63c4eec2-2b94-4fb8-d159-632bc03bb395"
      },
      "outputs": [
        {
          "data": {
            "text/html": [
              "<div><style>\n",
              ".dataframe > thead > tr,\n",
              ".dataframe > tbody > tr {\n",
              "  text-align: right;\n",
              "  white-space: pre-wrap;\n",
              "}\n",
              "</style>\n",
              "<small>shape: (5, 3)</small><table border=\"1\" class=\"dataframe\"><thead><tr><th>stars</th><th>review_body</th><th>language</th></tr><tr><td>i64</td><td>str</td><td>str</td></tr></thead><tbody><tr><td>1</td><td>&quot;Nada bueno se me fue ka pantal…</td><td>&quot;es&quot;</td></tr><tr><td>1</td><td>&quot;Horrible, nos tuvimos que comp…</td><td>&quot;es&quot;</td></tr><tr><td>1</td><td>&quot;Te obligan a comprar dos unida…</td><td>&quot;es&quot;</td></tr><tr><td>1</td><td>&quot;No entro en descalificar al ve…</td><td>&quot;es&quot;</td></tr><tr><td>1</td><td>&quot;Llega tarde y co la talla equi…</td><td>&quot;es&quot;</td></tr></tbody></table></div>"
            ],
            "text/plain": [
              "shape: (5, 3)\n",
              "┌───────┬─────────────────────────────────┬──────────┐\n",
              "│ stars ┆ review_body                     ┆ language │\n",
              "│ ---   ┆ ---                             ┆ ---      │\n",
              "│ i64   ┆ str                             ┆ str      │\n",
              "╞═══════╪═════════════════════════════════╪══════════╡\n",
              "│ 1     ┆ Nada bueno se me fue ka pantal… ┆ es       │\n",
              "│ 1     ┆ Horrible, nos tuvimos que comp… ┆ es       │\n",
              "│ 1     ┆ Te obligan a comprar dos unida… ┆ es       │\n",
              "│ 1     ┆ No entro en descalificar al ve… ┆ es       │\n",
              "│ 1     ┆ Llega tarde y co la talla equi… ┆ es       │\n",
              "└───────┴─────────────────────────────────┴──────────┘"
            ]
          },
          "execution_count": 10,
          "metadata": {},
          "output_type": "execute_result"
        }
      ],
      "source": [
        "df_polars.head()"
      ]
    },
    {
      "cell_type": "code",
      "execution_count": 11,
      "id": "tczcSxs4R75N",
      "metadata": {
        "id": "tczcSxs4R75N"
      },
      "outputs": [],
      "source": [
        "#  Elimnando columnas innecesarias (Determinado manualmente revisando: https://serviciosgis.catastrobogota.gov.co/arcgis/rest/services/catastro/lote/MapServer/3)\n",
        "df_polars = df_polars.drop([\"language\"])"
      ]
    },
    {
      "cell_type": "code",
      "execution_count": 12,
      "id": "4BIuZnffSBz9",
      "metadata": {
        "colab": {
          "base_uri": "https://localhost:8080/",
          "height": 255
        },
        "id": "4BIuZnffSBz9",
        "outputId": "25d94936-3888-4f13-9846-35d53289f55e"
      },
      "outputs": [
        {
          "data": {
            "text/html": [
              "<div><style>\n",
              ".dataframe > thead > tr,\n",
              ".dataframe > tbody > tr {\n",
              "  text-align: right;\n",
              "  white-space: pre-wrap;\n",
              "}\n",
              "</style>\n",
              "<small>shape: (5, 2)</small><table border=\"1\" class=\"dataframe\"><thead><tr><th>stars</th><th>review_body</th></tr><tr><td>i64</td><td>str</td></tr></thead><tbody><tr><td>1</td><td>&quot;Nada bueno se me fue ka pantal…</td></tr><tr><td>1</td><td>&quot;Horrible, nos tuvimos que comp…</td></tr><tr><td>1</td><td>&quot;Te obligan a comprar dos unida…</td></tr><tr><td>1</td><td>&quot;No entro en descalificar al ve…</td></tr><tr><td>1</td><td>&quot;Llega tarde y co la talla equi…</td></tr></tbody></table></div>"
            ],
            "text/plain": [
              "shape: (5, 2)\n",
              "┌───────┬─────────────────────────────────┐\n",
              "│ stars ┆ review_body                     │\n",
              "│ ---   ┆ ---                             │\n",
              "│ i64   ┆ str                             │\n",
              "╞═══════╪═════════════════════════════════╡\n",
              "│ 1     ┆ Nada bueno se me fue ka pantal… │\n",
              "│ 1     ┆ Horrible, nos tuvimos que comp… │\n",
              "│ 1     ┆ Te obligan a comprar dos unida… │\n",
              "│ 1     ┆ No entro en descalificar al ve… │\n",
              "│ 1     ┆ Llega tarde y co la talla equi… │\n",
              "└───────┴─────────────────────────────────┘"
            ]
          },
          "execution_count": 12,
          "metadata": {},
          "output_type": "execute_result"
        }
      ],
      "source": [
        "df_polars.head()"
      ]
    },
    {
      "cell_type": "code",
      "execution_count": 13,
      "id": "uTBwHLmrWW4M",
      "metadata": {
        "id": "uTBwHLmrWW4M"
      },
      "outputs": [],
      "source": [
        "df_polars = df_polars.with_columns(\n",
        "    pl.when(pl.col(\"stars\") < 3)\n",
        "    .then(0)\n",
        "    .when(pl.col(\"stars\") == 3)\n",
        "    .then(1)\n",
        "    .otherwise(2)\n",
        "    .alias(\"label\")\n",
        ")"
      ]
    },
    {
      "cell_type": "code",
      "execution_count": 14,
      "id": "st-2O3qTZu3I",
      "metadata": {
        "colab": {
          "base_uri": "https://localhost:8080/",
          "height": 380
        },
        "id": "st-2O3qTZu3I",
        "outputId": "1c6c733f-63f0-46d8-b155-d32ca25af248"
      },
      "outputs": [
        {
          "data": {
            "text/html": [
              "<div><style>\n",
              ".dataframe > thead > tr,\n",
              ".dataframe > tbody > tr {\n",
              "  text-align: right;\n",
              "  white-space: pre-wrap;\n",
              "}\n",
              "</style>\n",
              "<small>shape: (9, 4)</small><table border=\"1\" class=\"dataframe\"><thead><tr><th>statistic</th><th>stars</th><th>review_body</th><th>label</th></tr><tr><td>str</td><td>f64</td><td>str</td><td>f64</td></tr></thead><tbody><tr><td>&quot;count&quot;</td><td>200000.0</td><td>&quot;200000&quot;</td><td>200000.0</td></tr><tr><td>&quot;null_count&quot;</td><td>0.0</td><td>&quot;0&quot;</td><td>0.0</td></tr><tr><td>&quot;mean&quot;</td><td>3.0</td><td>null</td><td>1.0</td></tr><tr><td>&quot;std&quot;</td><td>1.414217</td><td>null</td><td>0.894429</td></tr><tr><td>&quot;min&quot;</td><td>1.0</td><td>&quot;! Que forma de contarnos tiene…</td><td>0.0</td></tr><tr><td>&quot;25%&quot;</td><td>2.0</td><td>null</td><td>0.0</td></tr><tr><td>&quot;50%&quot;</td><td>3.0</td><td>null</td><td>1.0</td></tr><tr><td>&quot;75%&quot;</td><td>4.0</td><td>null</td><td>2.0</td></tr><tr><td>&quot;max&quot;</td><td>5.0</td><td>&quot;😏, no sabría muy bien que deci…</td><td>2.0</td></tr></tbody></table></div>"
            ],
            "text/plain": [
              "shape: (9, 4)\n",
              "┌────────────┬──────────┬─────────────────────────────────┬──────────┐\n",
              "│ statistic  ┆ stars    ┆ review_body                     ┆ label    │\n",
              "│ ---        ┆ ---      ┆ ---                             ┆ ---      │\n",
              "│ str        ┆ f64      ┆ str                             ┆ f64      │\n",
              "╞════════════╪══════════╪═════════════════════════════════╪══════════╡\n",
              "│ count      ┆ 200000.0 ┆ 200000                          ┆ 200000.0 │\n",
              "│ null_count ┆ 0.0      ┆ 0                               ┆ 0.0      │\n",
              "│ mean       ┆ 3.0      ┆ null                            ┆ 1.0      │\n",
              "│ std        ┆ 1.414217 ┆ null                            ┆ 0.894429 │\n",
              "│ min        ┆ 1.0      ┆ ! Que forma de contarnos tiene… ┆ 0.0      │\n",
              "│ 25%        ┆ 2.0      ┆ null                            ┆ 0.0      │\n",
              "│ 50%        ┆ 3.0      ┆ null                            ┆ 1.0      │\n",
              "│ 75%        ┆ 4.0      ┆ null                            ┆ 2.0      │\n",
              "│ max        ┆ 5.0      ┆ 😏, no sabría muy bien que      ┆ 2.0      │\n",
              "│            ┆          ┆ deci…                           ┆          │\n",
              "└────────────┴──────────┴─────────────────────────────────┴──────────┘"
            ]
          },
          "execution_count": 14,
          "metadata": {},
          "output_type": "execute_result"
        }
      ],
      "source": [
        "df_polars.describe()"
      ]
    },
    {
      "cell_type": "code",
      "execution_count": 14,
      "id": "lftl-fvHEcHK",
      "metadata": {
        "id": "lftl-fvHEcHK"
      },
      "outputs": [],
      "source": [
        "df_polars.write_csv(\"dataset_clean/validation_clean.csv\")"
      ]
    }
  ],
  "metadata": {
    "colab": {
      "provenance": []
    },
    "kernelspec": {
      "display_name": "Python 3",
      "language": "python",
      "name": "python3"
    },
    "language_info": {
      "codemirror_mode": {
        "name": "ipython",
        "version": 3
      },
      "file_extension": ".py",
      "mimetype": "text/x-python",
      "name": "python",
      "nbconvert_exporter": "python",
      "pygments_lexer": "ipython3",
      "version": "3.12.3"
    }
  },
  "nbformat": 4,
  "nbformat_minor": 5
}
