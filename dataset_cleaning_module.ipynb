{
  "cells": [
    {
      "cell_type": "markdown",
      "id": "a44828e8",
      "metadata": {
        "id": "a44828e8"
      },
      "source": [
        "##  DEEP LEARNING\n",
        "### SIMON PORRAS VILLALOBOS\n",
        "Carga y limpieza de un dataframe"
      ]
    },
    {
      "cell_type": "code",
      "execution_count": 1,
      "id": "3dc61249",
      "metadata": {
        "id": "3dc61249"
      },
      "outputs": [],
      "source": [
        "import numpy as np\n",
        "import polars as pl\n",
        "import pandas as pd\n",
        "\n",
        "pd.set_option(\"display.max_columns\", None)  # Muestra todas las columnas\n",
        "pd.set_option(\"display.max_rows\", None)     # Muestra todas las filas\n",
        "pd.set_option(\"display.width\", None)        # Evita cortes en horizontal"
      ]
    },
    {
      "cell_type": "code",
      "execution_count": 19,
      "id": "44c53f29",
      "metadata": {
        "id": "44c53f29"
      },
      "outputs": [],
      "source": [
        "# Cargar el DataFrame con Polars\n",
        "df_polars = pl.read_csv(\"dataset_clean/test_clean.csv\")"
      ]
    },
    {
      "cell_type": "code",
      "execution_count": 20,
      "id": "0ca7ce9a",
      "metadata": {
        "colab": {
          "base_uri": "https://localhost:8080/",
          "height": 255
        },
        "id": "0ca7ce9a",
        "outputId": "f6241d9a-50bd-44a5-9353-307f87664286"
      },
      "outputs": [
        {
          "data": {
            "text/html": [
              "<div><style>\n",
              ".dataframe > thead > tr,\n",
              ".dataframe > tbody > tr {\n",
              "  text-align: right;\n",
              "  white-space: pre-wrap;\n",
              "}\n",
              "</style>\n",
              "<small>shape: (5, 3)</small><table border=\"1\" class=\"dataframe\"><thead><tr><th>stars</th><th>review_body</th><th>label</th></tr><tr><td>i64</td><td>str</td><td>i64</td></tr></thead><tbody><tr><td>1</td><td>&quot;no me llego el articulo me lo …</td><td>0</td></tr><tr><td>1</td><td>&quot;la mensajería horrible, no com…</td><td>0</td></tr><tr><td>1</td><td>&quot;Estoy muy decepcionado con el …</td><td>0</td></tr><tr><td>1</td><td>&quot;Mi valoración no es sobre el p…</td><td>0</td></tr><tr><td>1</td><td>&quot;Pues tenía interés en este lib…</td><td>0</td></tr></tbody></table></div>"
            ],
            "text/plain": [
              "shape: (5, 3)\n",
              "┌───────┬─────────────────────────────────┬───────┐\n",
              "│ stars ┆ review_body                     ┆ label │\n",
              "│ ---   ┆ ---                             ┆ ---   │\n",
              "│ i64   ┆ str                             ┆ i64   │\n",
              "╞═══════╪═════════════════════════════════╪═══════╡\n",
              "│ 1     ┆ no me llego el articulo me lo … ┆ 0     │\n",
              "│ 1     ┆ la mensajería horrible, no com… ┆ 0     │\n",
              "│ 1     ┆ Estoy muy decepcionado con el … ┆ 0     │\n",
              "│ 1     ┆ Mi valoración no es sobre el p… ┆ 0     │\n",
              "│ 1     ┆ Pues tenía interés en este lib… ┆ 0     │\n",
              "└───────┴─────────────────────────────────┴───────┘"
            ]
          },
          "execution_count": 20,
          "metadata": {},
          "output_type": "execute_result"
        }
      ],
      "source": [
        "df_polars.head()"
      ]
    },
    {
      "cell_type": "code",
      "execution_count": 21,
      "id": "e437d0df",
      "metadata": {
        "colab": {
          "base_uri": "https://localhost:8080/",
          "height": 398
        },
        "id": "e437d0df",
        "outputId": "2b7a800a-3a78-4bfa-cf0e-dfedc21eb64e"
      },
      "outputs": [
        {
          "data": {
            "text/html": [
              "<div><style>\n",
              ".dataframe > thead > tr,\n",
              ".dataframe > tbody > tr {\n",
              "  text-align: right;\n",
              "  white-space: pre-wrap;\n",
              "}\n",
              "</style>\n",
              "<small>shape: (9, 4)</small><table border=\"1\" class=\"dataframe\"><thead><tr><th>statistic</th><th>stars</th><th>review_body</th><th>label</th></tr><tr><td>str</td><td>f64</td><td>str</td><td>f64</td></tr></thead><tbody><tr><td>&quot;count&quot;</td><td>5000.0</td><td>&quot;5000&quot;</td><td>5000.0</td></tr><tr><td>&quot;null_count&quot;</td><td>0.0</td><td>&quot;0&quot;</td><td>0.0</td></tr><tr><td>&quot;mean&quot;</td><td>3.0</td><td>null</td><td>1.0</td></tr><tr><td>&quot;std&quot;</td><td>1.414355</td><td>null</td><td>0.894517</td></tr><tr><td>&quot;min&quot;</td><td>1.0</td><td>&quot;+ facil uso y alta capacidad. …</td><td>0.0</td></tr><tr><td>&quot;25%&quot;</td><td>2.0</td><td>null</td><td>0.0</td></tr><tr><td>&quot;50%&quot;</td><td>3.0</td><td>null</td><td>1.0</td></tr><tr><td>&quot;75%&quot;</td><td>4.0</td><td>null</td><td>2.0</td></tr><tr><td>&quot;max&quot;</td><td>5.0</td><td>&quot;Útiles pero algo incómodo para…</td><td>2.0</td></tr></tbody></table></div>"
            ],
            "text/plain": [
              "shape: (9, 4)\n",
              "┌────────────┬──────────┬─────────────────────────────────┬──────────┐\n",
              "│ statistic  ┆ stars    ┆ review_body                     ┆ label    │\n",
              "│ ---        ┆ ---      ┆ ---                             ┆ ---      │\n",
              "│ str        ┆ f64      ┆ str                             ┆ f64      │\n",
              "╞════════════╪══════════╪═════════════════════════════════╪══════════╡\n",
              "│ count      ┆ 5000.0   ┆ 5000                            ┆ 5000.0   │\n",
              "│ null_count ┆ 0.0      ┆ 0                               ┆ 0.0      │\n",
              "│ mean       ┆ 3.0      ┆ null                            ┆ 1.0      │\n",
              "│ std        ┆ 1.414355 ┆ null                            ┆ 0.894517 │\n",
              "│ min        ┆ 1.0      ┆ + facil uso y alta capacidad. … ┆ 0.0      │\n",
              "│ 25%        ┆ 2.0      ┆ null                            ┆ 0.0      │\n",
              "│ 50%        ┆ 3.0      ┆ null                            ┆ 1.0      │\n",
              "│ 75%        ┆ 4.0      ┆ null                            ┆ 2.0      │\n",
              "│ max        ┆ 5.0      ┆ Útiles pero algo incómodo para… ┆ 2.0      │\n",
              "└────────────┴──────────┴─────────────────────────────────┴──────────┘"
            ]
          },
          "execution_count": 21,
          "metadata": {},
          "output_type": "execute_result"
        }
      ],
      "source": [
        "df_polars.describe()"
      ]
    },
    {
      "cell_type": "code",
      "execution_count": 22,
      "id": "be570732",
      "metadata": {},
      "outputs": [],
      "source": [
        "df_polars = df_polars.remove(pl.col(\"stars\") == 3)"
      ]
    },
    {
      "cell_type": "code",
      "execution_count": 23,
      "id": "b2a88f7f",
      "metadata": {},
      "outputs": [
        {
          "data": {
            "text/html": [
              "<div><style>\n",
              ".dataframe > thead > tr,\n",
              ".dataframe > tbody > tr {\n",
              "  text-align: right;\n",
              "  white-space: pre-wrap;\n",
              "}\n",
              "</style>\n",
              "<small>shape: (9, 4)</small><table border=\"1\" class=\"dataframe\"><thead><tr><th>statistic</th><th>stars</th><th>review_body</th><th>label</th></tr><tr><td>str</td><td>f64</td><td>str</td><td>f64</td></tr></thead><tbody><tr><td>&quot;count&quot;</td><td>4000.0</td><td>&quot;4000&quot;</td><td>4000.0</td></tr><tr><td>&quot;null_count&quot;</td><td>0.0</td><td>&quot;0&quot;</td><td>0.0</td></tr><tr><td>&quot;mean&quot;</td><td>3.0</td><td>null</td><td>1.0</td></tr><tr><td>&quot;std&quot;</td><td>1.581337</td><td>null</td><td>1.000125</td></tr><tr><td>&quot;min&quot;</td><td>1.0</td><td>&quot;+ facil uso y alta capacidad. …</td><td>0.0</td></tr><tr><td>&quot;25%&quot;</td><td>2.0</td><td>null</td><td>0.0</td></tr><tr><td>&quot;50%&quot;</td><td>4.0</td><td>null</td><td>2.0</td></tr><tr><td>&quot;75%&quot;</td><td>4.0</td><td>null</td><td>2.0</td></tr><tr><td>&quot;max&quot;</td><td>5.0</td><td>&quot;Útil, rápida y efectiva. La ut…</td><td>2.0</td></tr></tbody></table></div>"
            ],
            "text/plain": [
              "shape: (9, 4)\n",
              "┌────────────┬──────────┬─────────────────────────────────┬──────────┐\n",
              "│ statistic  ┆ stars    ┆ review_body                     ┆ label    │\n",
              "│ ---        ┆ ---      ┆ ---                             ┆ ---      │\n",
              "│ str        ┆ f64      ┆ str                             ┆ f64      │\n",
              "╞════════════╪══════════╪═════════════════════════════════╪══════════╡\n",
              "│ count      ┆ 4000.0   ┆ 4000                            ┆ 4000.0   │\n",
              "│ null_count ┆ 0.0      ┆ 0                               ┆ 0.0      │\n",
              "│ mean       ┆ 3.0      ┆ null                            ┆ 1.0      │\n",
              "│ std        ┆ 1.581337 ┆ null                            ┆ 1.000125 │\n",
              "│ min        ┆ 1.0      ┆ + facil uso y alta capacidad. … ┆ 0.0      │\n",
              "│ 25%        ┆ 2.0      ┆ null                            ┆ 0.0      │\n",
              "│ 50%        ┆ 4.0      ┆ null                            ┆ 2.0      │\n",
              "│ 75%        ┆ 4.0      ┆ null                            ┆ 2.0      │\n",
              "│ max        ┆ 5.0      ┆ Útil, rápida y efectiva. La ut… ┆ 2.0      │\n",
              "└────────────┴──────────┴─────────────────────────────────┴──────────┘"
            ]
          },
          "execution_count": 23,
          "metadata": {},
          "output_type": "execute_result"
        }
      ],
      "source": [
        "df_polars.describe()"
      ]
    },
    {
      "cell_type": "code",
      "execution_count": 6,
      "id": "f424d3f6",
      "metadata": {
        "colab": {
          "base_uri": "https://localhost:8080/"
        },
        "id": "f424d3f6",
        "outputId": "2a4e149c-76d1-4a3b-a237-c4cd3c682612"
      },
      "outputs": [
        {
          "name": "stdout",
          "output_type": "stream",
          "text": [
            "Cantidad de valores nulos por columna:\n",
            "\n",
            "Columnas con nulos:\n",
            "   review_title\n",
            "0             4\n"
          ]
        }
      ],
      "source": [
        "#Visualizar coantidad de nulos por columna\n",
        "nulos_por_columna = df_polars.select([\n",
        "    pl.col(col).is_null().sum().alias(col)\n",
        "    for col in df_polars.columns\n",
        "])\n",
        "print(\"Cantidad de valores nulos por columna:\")\n",
        "#print(nulos_por_columna.to_pandas())\n",
        "\n",
        "nulos_filtrados = nulos_por_columna.select([\n",
        "    pl.col(c) for c in nulos_por_columna.columns if nulos_por_columna[0, c] > 0\n",
        "])\n",
        "print(\"\\nColumnas con nulos:\")\n",
        "print(nulos_filtrados.to_pandas())"
      ]
    },
    {
      "cell_type": "code",
      "execution_count": 7,
      "id": "f57ad2c7",
      "metadata": {
        "id": "f57ad2c7"
      },
      "outputs": [],
      "source": [
        "#  Elimnando columnas innecesarias (Determinado manualmente revisando: https://serviciosgis.catastrobogota.gov.co/arcgis/rest/services/catastro/lote/MapServer/3)\n",
        "df_polars = df_polars.drop([\"\",\"review_id\", \"product_id\", \"reviewer_id\", \"product_category\", \"review_title\"])"
      ]
    },
    {
      "cell_type": "code",
      "execution_count": 8,
      "id": "FYea8TzRDANK",
      "metadata": {
        "id": "FYea8TzRDANK"
      },
      "outputs": [],
      "source": [
        "df_polars = df_polars.remove(pl.col(\"language\") != \"es\")"
      ]
    },
    {
      "cell_type": "code",
      "execution_count": 9,
      "id": "X5twTCEmFq-z",
      "metadata": {
        "colab": {
          "base_uri": "https://localhost:8080/",
          "height": 380
        },
        "id": "X5twTCEmFq-z",
        "outputId": "9ff52433-e5ba-439d-d46b-b0401bdbc7bf"
      },
      "outputs": [
        {
          "data": {
            "text/html": [
              "<div><style>\n",
              ".dataframe > thead > tr,\n",
              ".dataframe > tbody > tr {\n",
              "  text-align: right;\n",
              "  white-space: pre-wrap;\n",
              "}\n",
              "</style>\n",
              "<small>shape: (9, 4)</small><table border=\"1\" class=\"dataframe\"><thead><tr><th>statistic</th><th>stars</th><th>review_body</th><th>language</th></tr><tr><td>str</td><td>f64</td><td>str</td><td>str</td></tr></thead><tbody><tr><td>&quot;count&quot;</td><td>200000.0</td><td>&quot;200000&quot;</td><td>&quot;200000&quot;</td></tr><tr><td>&quot;null_count&quot;</td><td>0.0</td><td>&quot;0&quot;</td><td>&quot;0&quot;</td></tr><tr><td>&quot;mean&quot;</td><td>3.0</td><td>null</td><td>null</td></tr><tr><td>&quot;std&quot;</td><td>1.414217</td><td>null</td><td>null</td></tr><tr><td>&quot;min&quot;</td><td>1.0</td><td>&quot;! Que forma de contarnos tiene…</td><td>&quot;es&quot;</td></tr><tr><td>&quot;25%&quot;</td><td>2.0</td><td>null</td><td>null</td></tr><tr><td>&quot;50%&quot;</td><td>3.0</td><td>null</td><td>null</td></tr><tr><td>&quot;75%&quot;</td><td>4.0</td><td>null</td><td>null</td></tr><tr><td>&quot;max&quot;</td><td>5.0</td><td>&quot;😏, no sabría muy bien que deci…</td><td>&quot;es&quot;</td></tr></tbody></table></div>"
            ],
            "text/plain": [
              "shape: (9, 4)\n",
              "┌────────────┬──────────┬─────────────────────────────────┬──────────┐\n",
              "│ statistic  ┆ stars    ┆ review_body                     ┆ language │\n",
              "│ ---        ┆ ---      ┆ ---                             ┆ ---      │\n",
              "│ str        ┆ f64      ┆ str                             ┆ str      │\n",
              "╞════════════╪══════════╪═════════════════════════════════╪══════════╡\n",
              "│ count      ┆ 200000.0 ┆ 200000                          ┆ 200000   │\n",
              "│ null_count ┆ 0.0      ┆ 0                               ┆ 0        │\n",
              "│ mean       ┆ 3.0      ┆ null                            ┆ null     │\n",
              "│ std        ┆ 1.414217 ┆ null                            ┆ null     │\n",
              "│ min        ┆ 1.0      ┆ ! Que forma de contarnos tiene… ┆ es       │\n",
              "│ 25%        ┆ 2.0      ┆ null                            ┆ null     │\n",
              "│ 50%        ┆ 3.0      ┆ null                            ┆ null     │\n",
              "│ 75%        ┆ 4.0      ┆ null                            ┆ null     │\n",
              "│ max        ┆ 5.0      ┆ 😏, no sabría muy bien que      ┆ es       │\n",
              "│            ┆          ┆ deci…                           ┆          │\n",
              "└────────────┴──────────┴─────────────────────────────────┴──────────┘"
            ]
          },
          "execution_count": 9,
          "metadata": {},
          "output_type": "execute_result"
        }
      ],
      "source": [
        "df_polars.describe()"
      ]
    },
    {
      "cell_type": "code",
      "execution_count": 10,
      "id": "1b984915",
      "metadata": {
        "colab": {
          "base_uri": "https://localhost:8080/",
          "height": 255
        },
        "id": "1b984915",
        "outputId": "63c4eec2-2b94-4fb8-d159-632bc03bb395"
      },
      "outputs": [
        {
          "data": {
            "text/html": [
              "<div><style>\n",
              ".dataframe > thead > tr,\n",
              ".dataframe > tbody > tr {\n",
              "  text-align: right;\n",
              "  white-space: pre-wrap;\n",
              "}\n",
              "</style>\n",
              "<small>shape: (5, 3)</small><table border=\"1\" class=\"dataframe\"><thead><tr><th>stars</th><th>review_body</th><th>language</th></tr><tr><td>i64</td><td>str</td><td>str</td></tr></thead><tbody><tr><td>1</td><td>&quot;Nada bueno se me fue ka pantal…</td><td>&quot;es&quot;</td></tr><tr><td>1</td><td>&quot;Horrible, nos tuvimos que comp…</td><td>&quot;es&quot;</td></tr><tr><td>1</td><td>&quot;Te obligan a comprar dos unida…</td><td>&quot;es&quot;</td></tr><tr><td>1</td><td>&quot;No entro en descalificar al ve…</td><td>&quot;es&quot;</td></tr><tr><td>1</td><td>&quot;Llega tarde y co la talla equi…</td><td>&quot;es&quot;</td></tr></tbody></table></div>"
            ],
            "text/plain": [
              "shape: (5, 3)\n",
              "┌───────┬─────────────────────────────────┬──────────┐\n",
              "│ stars ┆ review_body                     ┆ language │\n",
              "│ ---   ┆ ---                             ┆ ---      │\n",
              "│ i64   ┆ str                             ┆ str      │\n",
              "╞═══════╪═════════════════════════════════╪══════════╡\n",
              "│ 1     ┆ Nada bueno se me fue ka pantal… ┆ es       │\n",
              "│ 1     ┆ Horrible, nos tuvimos que comp… ┆ es       │\n",
              "│ 1     ┆ Te obligan a comprar dos unida… ┆ es       │\n",
              "│ 1     ┆ No entro en descalificar al ve… ┆ es       │\n",
              "│ 1     ┆ Llega tarde y co la talla equi… ┆ es       │\n",
              "└───────┴─────────────────────────────────┴──────────┘"
            ]
          },
          "execution_count": 10,
          "metadata": {},
          "output_type": "execute_result"
        }
      ],
      "source": [
        "df_polars.head()"
      ]
    },
    {
      "cell_type": "code",
      "execution_count": 11,
      "id": "tczcSxs4R75N",
      "metadata": {
        "id": "tczcSxs4R75N"
      },
      "outputs": [],
      "source": [
        "#  Elimnando columnas innecesarias (Determinado manualmente revisando: https://serviciosgis.catastrobogota.gov.co/arcgis/rest/services/catastro/lote/MapServer/3)\n",
        "df_polars = df_polars.drop([\"language\"])"
      ]
    },
    {
      "cell_type": "code",
      "execution_count": 12,
      "id": "4BIuZnffSBz9",
      "metadata": {
        "colab": {
          "base_uri": "https://localhost:8080/",
          "height": 255
        },
        "id": "4BIuZnffSBz9",
        "outputId": "25d94936-3888-4f13-9846-35d53289f55e"
      },
      "outputs": [
        {
          "data": {
            "text/html": [
              "<div><style>\n",
              ".dataframe > thead > tr,\n",
              ".dataframe > tbody > tr {\n",
              "  text-align: right;\n",
              "  white-space: pre-wrap;\n",
              "}\n",
              "</style>\n",
              "<small>shape: (5, 2)</small><table border=\"1\" class=\"dataframe\"><thead><tr><th>stars</th><th>review_body</th></tr><tr><td>i64</td><td>str</td></tr></thead><tbody><tr><td>1</td><td>&quot;Nada bueno se me fue ka pantal…</td></tr><tr><td>1</td><td>&quot;Horrible, nos tuvimos que comp…</td></tr><tr><td>1</td><td>&quot;Te obligan a comprar dos unida…</td></tr><tr><td>1</td><td>&quot;No entro en descalificar al ve…</td></tr><tr><td>1</td><td>&quot;Llega tarde y co la talla equi…</td></tr></tbody></table></div>"
            ],
            "text/plain": [
              "shape: (5, 2)\n",
              "┌───────┬─────────────────────────────────┐\n",
              "│ stars ┆ review_body                     │\n",
              "│ ---   ┆ ---                             │\n",
              "│ i64   ┆ str                             │\n",
              "╞═══════╪═════════════════════════════════╡\n",
              "│ 1     ┆ Nada bueno se me fue ka pantal… │\n",
              "│ 1     ┆ Horrible, nos tuvimos que comp… │\n",
              "│ 1     ┆ Te obligan a comprar dos unida… │\n",
              "│ 1     ┆ No entro en descalificar al ve… │\n",
              "│ 1     ┆ Llega tarde y co la talla equi… │\n",
              "└───────┴─────────────────────────────────┘"
            ]
          },
          "execution_count": 12,
          "metadata": {},
          "output_type": "execute_result"
        }
      ],
      "source": [
        "df_polars.head()"
      ]
    },
    {
      "cell_type": "code",
      "execution_count": 24,
      "id": "uTBwHLmrWW4M",
      "metadata": {
        "id": "uTBwHLmrWW4M"
      },
      "outputs": [],
      "source": [
        "df_polars = df_polars.with_columns(\n",
        "    pl.when(pl.col(\"stars\") < 3)\n",
        "    .then(0)\n",
        "    .otherwise(1)\n",
        "    .alias(\"label\")\n",
        ")"
      ]
    },
    {
      "cell_type": "code",
      "execution_count": 25,
      "id": "st-2O3qTZu3I",
      "metadata": {
        "colab": {
          "base_uri": "https://localhost:8080/",
          "height": 380
        },
        "id": "st-2O3qTZu3I",
        "outputId": "1c6c733f-63f0-46d8-b155-d32ca25af248"
      },
      "outputs": [
        {
          "data": {
            "text/html": [
              "<div><style>\n",
              ".dataframe > thead > tr,\n",
              ".dataframe > tbody > tr {\n",
              "  text-align: right;\n",
              "  white-space: pre-wrap;\n",
              "}\n",
              "</style>\n",
              "<small>shape: (9, 4)</small><table border=\"1\" class=\"dataframe\"><thead><tr><th>statistic</th><th>stars</th><th>review_body</th><th>label</th></tr><tr><td>str</td><td>f64</td><td>str</td><td>f64</td></tr></thead><tbody><tr><td>&quot;count&quot;</td><td>4000.0</td><td>&quot;4000&quot;</td><td>4000.0</td></tr><tr><td>&quot;null_count&quot;</td><td>0.0</td><td>&quot;0&quot;</td><td>0.0</td></tr><tr><td>&quot;mean&quot;</td><td>3.0</td><td>null</td><td>0.5</td></tr><tr><td>&quot;std&quot;</td><td>1.581337</td><td>null</td><td>0.500063</td></tr><tr><td>&quot;min&quot;</td><td>1.0</td><td>&quot;+ facil uso y alta capacidad. …</td><td>0.0</td></tr><tr><td>&quot;25%&quot;</td><td>2.0</td><td>null</td><td>0.0</td></tr><tr><td>&quot;50%&quot;</td><td>4.0</td><td>null</td><td>1.0</td></tr><tr><td>&quot;75%&quot;</td><td>4.0</td><td>null</td><td>1.0</td></tr><tr><td>&quot;max&quot;</td><td>5.0</td><td>&quot;Útil, rápida y efectiva. La ut…</td><td>1.0</td></tr></tbody></table></div>"
            ],
            "text/plain": [
              "shape: (9, 4)\n",
              "┌────────────┬──────────┬─────────────────────────────────┬──────────┐\n",
              "│ statistic  ┆ stars    ┆ review_body                     ┆ label    │\n",
              "│ ---        ┆ ---      ┆ ---                             ┆ ---      │\n",
              "│ str        ┆ f64      ┆ str                             ┆ f64      │\n",
              "╞════════════╪══════════╪═════════════════════════════════╪══════════╡\n",
              "│ count      ┆ 4000.0   ┆ 4000                            ┆ 4000.0   │\n",
              "│ null_count ┆ 0.0      ┆ 0                               ┆ 0.0      │\n",
              "│ mean       ┆ 3.0      ┆ null                            ┆ 0.5      │\n",
              "│ std        ┆ 1.581337 ┆ null                            ┆ 0.500063 │\n",
              "│ min        ┆ 1.0      ┆ + facil uso y alta capacidad. … ┆ 0.0      │\n",
              "│ 25%        ┆ 2.0      ┆ null                            ┆ 0.0      │\n",
              "│ 50%        ┆ 4.0      ┆ null                            ┆ 1.0      │\n",
              "│ 75%        ┆ 4.0      ┆ null                            ┆ 1.0      │\n",
              "│ max        ┆ 5.0      ┆ Útil, rápida y efectiva. La ut… ┆ 1.0      │\n",
              "└────────────┴──────────┴─────────────────────────────────┴──────────┘"
            ]
          },
          "execution_count": 25,
          "metadata": {},
          "output_type": "execute_result"
        }
      ],
      "source": [
        "df_polars.describe()"
      ]
    },
    {
      "cell_type": "code",
      "execution_count": 26,
      "id": "lftl-fvHEcHK",
      "metadata": {
        "id": "lftl-fvHEcHK"
      },
      "outputs": [],
      "source": [
        "df_polars.write_csv(\"dataset_clean_v2/test_clean_v2.csv\")"
      ]
    }
  ],
  "metadata": {
    "colab": {
      "provenance": []
    },
    "kernelspec": {
      "display_name": "Python 3",
      "language": "python",
      "name": "python3"
    },
    "language_info": {
      "codemirror_mode": {
        "name": "ipython",
        "version": 3
      },
      "file_extension": ".py",
      "mimetype": "text/x-python",
      "name": "python",
      "nbconvert_exporter": "python",
      "pygments_lexer": "ipython3",
      "version": "3.12.3"
    }
  },
  "nbformat": 4,
  "nbformat_minor": 5
}
