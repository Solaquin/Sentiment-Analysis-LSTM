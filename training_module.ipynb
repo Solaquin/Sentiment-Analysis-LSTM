{
 "cells": [
  {
   "cell_type": "code",
   "execution_count": 1,
   "id": "3eb0d8d8",
   "metadata": {},
   "outputs": [],
   "source": [
    "import numpy as np\n",
    "import pandas as pd\n",
    "import tensorflow as tf\n",
    "from tokenization_module import TokenizerModule\n",
    "\n",
    "from tensorflow.keras import layers, models, optimizers, callbacks, preprocessing\n"
   ]
  },
  {
   "cell_type": "code",
   "execution_count": null,
   "id": "f0d8895b",
   "metadata": {},
   "outputs": [],
   "source": [
    "#Cargar datasets\n",
    "train = pd.read_csv(\"dataset_clean/train_clean.csv\")\n",
    "val = pd.read_csv(\"dataset_clean/validation_clean.csv\")\n",
    "test = pd.read_csv(\"dataset_clean/test_clean.csv\")"
   ]
  },
  {
   "cell_type": "code",
   "execution_count": null,
   "id": "d67ff6da",
   "metadata": {},
   "outputs": [],
   "source": [
    "#Cargar tokenizador\n",
    "tok = TokenizerModule()\n",
    "tok.load_vectorizer(\"vectorizer\")\n",
    "encoder = tok.vectorizer\n",
    "vocab = encoder.get_vocabulary()"
   ]
  },
  {
   "cell_type": "code",
   "execution_count": null,
   "id": "85e7ddb1",
   "metadata": {},
   "outputs": [],
   "source": [
    "#Vectorizar los datasets\n",
    "X_train = tok.vectorize_texts(train['review_body'].astype(str))\n",
    "X_val = tok.vectorize_texts(val['review_body'].astype(str))\n",
    "X_test = tok.vectorize_texts(test['review_body'].astype(str))\n",
    "\n",
    "#Tomar labels\n",
    "Y_train = train[\"label\"].astype('int32')\n",
    "Y_val = val[\"label\"].astype('int32')\n",
    "Y_test = test[\"label\"].astype('int32')"
   ]
  },
  {
   "cell_type": "code",
   "execution_count": null,
   "id": "808a867a",
   "metadata": {},
   "outputs": [],
   "source": [
    "#Crear modelo\n",
    "model = models.Sequential([\n",
    "    tf.keras.layers.Embedding(\n",
    "        input_dim=len(vocab),\n",
    "        output_dim=150,\n",
    "        mask_zero=True),\n",
    "    tf.keras.layers.Bidirectional(tf.keras.layers.LSTM(64, return_sequences=True)),\n",
    "    tf.keras.layers.Bidirectional(tf.keras.layers.LSTM(32)),\n",
    "    tf.keras.layers.Dense(64, activation='relu'),\n",
    "    tf.keras.layers.Dropout(0.5),\n",
    "    tf.keras.layers.Dense(3, activation='softmax')\n",
    "])"
   ]
  },
  {
   "cell_type": "code",
   "execution_count": null,
   "id": "1fb304d4",
   "metadata": {},
   "outputs": [],
   "source": [
    "sample_text = [\"Este es un texto de prueba en español, me gusta mucho\"]\n",
    "\n",
    "# Vectorizar primero\n",
    "sample_seq = encoder(sample_text)  # Tensor de enteros\n",
    "\n",
    "# Predecir\n",
    "predictions = model.predict(sample_seq)\n",
    "print(predictions[0])"
   ]
  },
  {
   "cell_type": "code",
   "execution_count": null,
   "id": "aabf770b",
   "metadata": {},
   "outputs": [],
   "source": [
    "model.compile(\n",
    "    loss='sparse_categorical_crossentropy',\n",
    "    optimizer=tf.keras.optimizers.Adam(learning_rate=1e-3),\n",
    "    metrics=['accuracy']\n",
    ")"
   ]
  },
  {
   "cell_type": "code",
   "execution_count": null,
   "id": "f2788b07",
   "metadata": {},
   "outputs": [],
   "source": [
    "model.summary()"
   ]
  },
  {
   "cell_type": "code",
   "execution_count": null,
   "id": "cf1ef2ad",
   "metadata": {},
   "outputs": [],
   "source": [
    "#Hiperparámetros\n",
    "epochs = 10\n",
    "batch_size = 64"
   ]
  },
  {
   "cell_type": "code",
   "execution_count": null,
   "id": "c450f33e",
   "metadata": {},
   "outputs": [],
   "source": [
    "history = model.fit(\n",
    "    X_train, Y_train,\n",
    "    validation_data=(X_val, Y_val),\n",
    "    epochs=epochs,\n",
    "    batch_size=batch_size,\n",
    ")"
   ]
  }
 ],
 "metadata": {
  "kernelspec": {
   "display_name": "Python 3",
   "language": "python",
   "name": "python3"
  },
  "language_info": {
   "codemirror_mode": {
    "name": "ipython",
    "version": 3
   },
   "file_extension": ".py",
   "mimetype": "text/x-python",
   "name": "python",
   "nbconvert_exporter": "python",
   "pygments_lexer": "ipython3",
   "version": "3.12.3"
  }
 },
 "nbformat": 4,
 "nbformat_minor": 5
}
